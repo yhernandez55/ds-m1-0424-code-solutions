{
  "nbformat": 4,
  "nbformat_minor": 0,
  "metadata": {
    "colab": {
      "provenance": []
    },
    "kernelspec": {
      "name": "python3",
      "display_name": "Python 3"
    },
    "language_info": {
      "name": "python"
    }
  },
  "cells": [
    {
      "cell_type": "code",
      "execution_count": null,
      "metadata": {
        "id": "KhvC-FUYS8xh"
      },
      "outputs": [],
      "source": [
        "def alpha_index():\n",
        "  alphas = 'abcdefghijklmnopqrstuvwxyz'\n",
        "  alphas_list = list(alphas)\n",
        "  indexs = list(range(1, len(alphas)+1))\n",
        "  return list(zip(alphas_list, indexs))"
      ]
    },
    {
      "cell_type": "code",
      "source": [
        "alpha_tuple = alpha_index()\n",
        "alpha_tuple"
      ],
      "metadata": {
        "colab": {
          "base_uri": "https://localhost:8080/"
        },
        "id": "L7tP0aLzTdD9",
        "outputId": "16e22580-7491-47fb-adf0-1014127a023c"
      },
      "execution_count": null,
      "outputs": [
        {
          "output_type": "execute_result",
          "data": {
            "text/plain": [
              "[('a', 1),\n",
              " ('b', 2),\n",
              " ('c', 3),\n",
              " ('d', 4),\n",
              " ('e', 5),\n",
              " ('f', 6),\n",
              " ('g', 7),\n",
              " ('h', 8),\n",
              " ('i', 9),\n",
              " ('j', 10),\n",
              " ('k', 11),\n",
              " ('l', 12),\n",
              " ('m', 13),\n",
              " ('n', 14),\n",
              " ('o', 15),\n",
              " ('p', 16),\n",
              " ('q', 17),\n",
              " ('r', 18),\n",
              " ('s', 19),\n",
              " ('t', 20),\n",
              " ('u', 21),\n",
              " ('v', 22),\n",
              " ('w', 23),\n",
              " ('x', 24),\n",
              " ('y', 25),\n",
              " ('z', 26)]"
            ]
          },
          "metadata": {},
          "execution_count": 2
        }
      ]
    }
  ]
}