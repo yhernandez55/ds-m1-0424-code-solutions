{
  "nbformat": 4,
  "nbformat_minor": 0,
  "metadata": {
    "colab": {
      "provenance": []
    },
    "kernelspec": {
      "name": "python3",
      "display_name": "Python 3"
    },
    "language_info": {
      "name": "python"
    }
  },
  "cells": [
    {
      "cell_type": "code",
      "source": [
        "import datetime as dt\n",
        "from datetime import date, time, datetime as dt\n",
        "from datetime import timezone\n",
        "import pytz\n",
        "from datetime import timedelta\n",
        "from datetime import datetime, timedelta, time"
      ],
      "metadata": {
        "id": "HL7IxFJzUj3H"
      },
      "execution_count": null,
      "outputs": []
    },
    {
      "cell_type": "code",
      "execution_count": null,
      "metadata": {
        "colab": {
          "base_uri": "https://localhost:8080/"
        },
        "id": "4VR4YxqgUbx-",
        "outputId": "36fcd1ed-a710-40db-bacf-d40563d9c8ac"
      },
      "outputs": [
        {
          "output_type": "stream",
          "name": "stdout",
          "text": [
            "please enter birthdate here (YYYY-MM-DD): 2001-06-21\n",
            "22\n"
          ]
        }
      ],
      "source": [
        "def calc_age(birth_date):\n",
        "  today = date.today()\n",
        "  age = today.year - birth_date.year - ((today.month, today.day) < (birth_date.month, birth_date.day))\n",
        "  return age\n",
        "\n",
        "birth_date_str = input('please enter birthdate here (YYYY-MM-DD): ').split('-')\n",
        "birth_date = date(int(birth_date_str[0]), int(birth_date_str[1]), int(birth_date_str[2]))\n",
        "age = calc_age(birth_date)\n",
        "print(age)"
      ]
    }
  ]
}